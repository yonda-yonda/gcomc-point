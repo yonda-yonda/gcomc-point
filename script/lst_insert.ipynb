{
 "cells": [
  {
   "cell_type": "code",
   "execution_count": 6,
   "metadata": {},
   "outputs": [],
   "source": [
    "from elasticsearch import Elasticsearch, helpers\n",
    "from pathlib import Path\n",
    "import time\n",
    "import gcomc_reader\n",
    "\n",
    "es = Elasticsearch(\"http://es:9200\")\n",
    "filename_identifier = 'LST'\n",
    "product = 'LST'\n",
    "source_path = \"../source\""
   ]
  },
  {
   "cell_type": "code",
   "execution_count": 7,
   "metadata": {},
   "outputs": [],
   "source": [
    "product_index = product.lower()\n",
    "# es.indices.delete(product_index) #indexを作り直す場合 \n",
    "\n",
    "if not es.indices.exists(index=product_index):\n",
    "    es.indices.create(index=product_index, body={\n",
    "        \"mappings\": {\n",
    "            \"properties\": {\n",
    "                \"granule_id\": {\n",
    "                  \"type\": \"keyword\"\n",
    "                },\n",
    "                \"location\": {\n",
    "                  \"type\": \"geo_point\"\n",
    "                },\n",
    "                \"value\": {\n",
    "                    \"type\": \"float\"\n",
    "                },\n",
    "                \"observation_datetime\": {\n",
    "                  \"type\": \"date\"\n",
    "                },\n",
    "                \"qa_flags\": {\n",
    "                    \"type\": \"short\"\n",
    "                }\n",
    "            }\n",
    "        }\n",
    "    })"
   ]
  },
  {
   "cell_type": "code",
   "execution_count": 8,
   "metadata": {},
   "outputs": [],
   "source": [
    "process_index = 'process'\n",
    "# es.indices.delete(process_index) #indexを作り直す場合 \n",
    "\n",
    "if not es.indices.exists(index=process_index):\n",
    "    es.indices.create(index=process_index, body={\n",
    "        \"mappings\": {\n",
    "            \"properties\": {\n",
    "                \"location\": {\n",
    "                  \"type\": \"geo_shape\"\n",
    "                },\n",
    "                \"start_datetime\": {\n",
    "                  \"type\": \"date\"\n",
    "                },\n",
    "                \"end_datetime\": {\n",
    "                  \"type\": \"date\"\n",
    "                },\n",
    "                \"processed_datetime\": {\n",
    "                  \"type\": \"date\"\n",
    "                },\n",
    "                \"good\": {\n",
    "                    \"type\": \"boolean\"\n",
    "                },\n",
    "                \"algorithm_version\": {\n",
    "                    \"type\": \"keyword\"\n",
    "                },\n",
    "                \"product\": {\n",
    "                    \"type\": \"keyword\"\n",
    "                },\n",
    "                \"done\": {\n",
    "                    \"type\": \"boolean\"\n",
    "                }\n",
    "            }\n",
    "        }\n",
    "    })"
   ]
  },
  {
   "cell_type": "code",
   "execution_count": 9,
   "metadata": {},
   "outputs": [
    {
     "name": "stdout",
     "output_type": "stream",
     "text": [
      "True\n",
      "passed: GC1SG1_20200925A01D_T0221_L2SG_LST_Q_2000\n",
      "True\n",
      "passed: GC1SG1_20200917D01D_T0221_L2SG_LST_Q_2000\n",
      "True\n",
      "passed: GC1SG1_20200919D01D_T0221_L2SG_LST_Q_2000\n",
      "True\n",
      "passed: GC1SG1_20200917A01D_T0221_L2SG_LST_Q_2000\n",
      "True\n",
      "passed: GC1SG1_20200919A01D_T0221_L2SG_LST_Q_2000\n",
      "True\n",
      "passed: GC1SG1_20200920D01D_T0221_L2SG_LST_Q_2000\n",
      "True\n",
      "passed: GC1SG1_20200920A01D_T0221_L2SG_LST_Q_2000\n",
      "True\n",
      "passed: GC1SG1_20200923A01D_T0221_L2SG_LST_Q_2000\n",
      "True\n",
      "passed: GC1SG1_20200923D01D_T0221_L2SG_LST_Q_2000\n",
      "True\n",
      "passed: GC1SG1_20200922A01D_T0221_L2SG_LST_Q_2000\n",
      "True\n",
      "passed: GC1SG1_20200922D01D_T0221_L2SG_LST_Q_2000\n",
      "True\n",
      "passed: GC1SG1_20200921D01D_T0221_L2SG_LST_Q_2000\n",
      "True\n",
      "passed: GC1SG1_20200921A01D_T0221_L2SG_LST_Q_2000\n",
      "True\n",
      "passed: GC1SG1_20200918D01D_T0221_L2SG_LST_Q_2000\n",
      "True\n",
      "passed: GC1SG1_20200916D01D_T0221_L2SG_LST_Q_2000\n",
      "True\n",
      "passed: GC1SG1_20200918A01D_T0221_L2SG_LST_Q_2000\n",
      "True\n",
      "passed: GC1SG1_20200916A01D_T0221_L2SG_LST_Q_2000\n",
      "True\n",
      "passed: GC1SG1_20200915A01D_T0221_L2SG_LST_Q_2000\n",
      "True\n",
      "passed: GC1SG1_20200924A01D_T0221_L2SG_LST_Q_2000\n",
      "True\n",
      "passed: GC1SG1_20200915D01D_T0221_L2SG_LST_Q_2000\n",
      "True\n",
      "passed: GC1SG1_20200924D01D_T0221_L2SG_LST_Q_2000\n"
     ]
    }
   ],
   "source": [
    "p = Path(source_path)\n",
    "\n",
    "for file_path in p.glob(\"*{}*.h5\".format(filename_identifier)):\n",
    "    r = gcomc_reader.Tile(str(file_path))\n",
    "\n",
    "    processed = es.search(index=process_index, body={\"query\":{\"bool\":{\"must\":[{\"term\":{\"_id\":r.granule_id}},{\"term\":{\"done\":True}}]}}})\n",
    "    if processed['hits']['total']['value'] == 0 and r.resolution == 'Q':\n",
    "        print(\"start: {}\".format(r.granule_id))\n",
    "        start = time.time()\n",
    "        es.index(index=process_index, id=r.granule_id, body={\n",
    "            \"location\": {\n",
    "                \"type\" : \"polygon\",\n",
    "                \"coordinates\" : [\n",
    "                  [r.lower_left, r.lower_right, r.upper_right, r.upper_left, r.lower_left]\n",
    "                ]\n",
    "            },\n",
    "            \"start_datetime\": r.start_time,\n",
    "            \"end_datetime\": r.end_time,\n",
    "            \"processed_datetime\": r.processed,\n",
    "            \"good\": r.is_good(),\n",
    "            \"algorithm_version\": r.algorithm_version,\n",
    "            \"product\": r.product,\n",
    "            \"done\": False\n",
    "        })\n",
    "\n",
    "        if r.is_good() == True:\n",
    "            items = []\n",
    "            for line in range(r.lines):\n",
    "                for pixel in range(r.pixels):\n",
    "                    try:\n",
    "                        item = r.get_point(line, pixel)\n",
    "                        if item['value'] is not None and item['observation_datetime'] is not None:\n",
    "                            item['granule_id'] = r.granule_id\n",
    "                            id = '{}_{}_{}'.format(r.granule_id, line, pixel)\n",
    "                            items.append({'_op_type': 'index', '_index':product_index, '_id':id, '_source':item})\n",
    "\n",
    "                            if len(items)>10000:\n",
    "                                helpers.bulk(es, items)\n",
    "                                items = []\n",
    "                    except:\n",
    "                        pass\n",
    "\n",
    "            if len(items)>0:\n",
    "                helpers.bulk(es, items)\n",
    "        es.update(index=process_index, id=r.granule_id, body={\"doc\": {\"done\": True}})\n",
    "        print(\"done: {}[s]\".format(time.time() - start))\n",
    "    else:\n",
    "        print(\"passed: {}\".format(r.granule_id))"
   ]
  },
  {
   "cell_type": "code",
   "execution_count": 10,
   "metadata": {},
   "outputs": [
    {
     "data": {
      "text/plain": [
       "{'count': 179817666,\n",
       " '_shards': {'total': 1, 'successful': 1, 'skipped': 0, 'failed': 0}}"
      ]
     },
     "execution_count": 10,
     "metadata": {},
     "output_type": "execute_result"
    }
   ],
   "source": [
    "es.count(index=product_index)"
   ]
  },
  {
   "cell_type": "code",
   "execution_count": 11,
   "metadata": {},
   "outputs": [
    {
     "data": {
      "text/plain": [
       "{'count': 21,\n",
       " '_shards': {'total': 1, 'successful': 1, 'skipped': 0, 'failed': 0}}"
      ]
     },
     "execution_count": 11,
     "metadata": {},
     "output_type": "execute_result"
    }
   ],
   "source": [
    "es.count(index=process_index)"
   ]
  },
  {
   "cell_type": "code",
   "execution_count": 12,
   "metadata": {},
   "outputs": [
    {
     "name": "stdout",
     "output_type": "stream",
     "text": [
      "created points: {'count': 179817666, '_shards': {'total': 1, 'successful': 1, 'skipped': 0, 'failed': 0}}\n",
      "processed files: {'count': 21, '_shards': {'total': 1, 'successful': 1, 'skipped': 0, 'failed': 0}}\n"
     ]
    }
   ],
   "source": [
    "print(\"created points: {}\".format(es.count(index=product_index)))\n",
    "print(\"processed files: {}\".format(es.count(index=process_index)))"
   ]
  },
  {
   "cell_type": "code",
   "execution_count": null,
   "metadata": {},
   "outputs": [],
   "source": []
  }
 ],
 "metadata": {
  "kernelspec": {
   "display_name": "Python 3",
   "language": "python",
   "name": "python3"
  },
  "language_info": {
   "codemirror_mode": {
    "name": "ipython",
    "version": 3
   },
   "file_extension": ".py",
   "mimetype": "text/x-python",
   "name": "python",
   "nbconvert_exporter": "python",
   "pygments_lexer": "ipython3",
   "version": "3.8.5"
  }
 },
 "nbformat": 4,
 "nbformat_minor": 4
}
