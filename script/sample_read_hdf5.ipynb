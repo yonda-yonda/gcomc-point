{
 "cells": [
  {
   "cell_type": "code",
   "execution_count": null,
   "metadata": {},
   "outputs": [],
   "source": [
    "import gcomc_reader\n",
    "\n",
    "file_path = '../source/ダウンロードしたファイル名.h5'\n",
    "r = gcomc_reader.Tile(file_path)"
   ]
  },
  {
   "cell_type": "code",
   "execution_count": null,
   "metadata": {},
   "outputs": [],
   "source": [
    "print('granule_id: {}'.format(r.granule_id))\n",
    "print('resolution: {}'.format(r.resolution))\n",
    "print('algorithm_version: {}'.format(r.algorithm_version))\n",
    "print('start_time: {}'.format(r.start_time))\n",
    "print('end_time: {}'.format(r.end_time))\n",
    "print('size: {}, {}'.format(r.lines, r.pixels))\n",
    "print('unit: {}'.format(r.unit))\n",
    "print('qa_description: {}'.format(r.qa_description))"
   ]
  },
  {
   "cell_type": "code",
   "execution_count": null,
   "metadata": {},
   "outputs": [],
   "source": [
    "try:\n",
    "    print(r.get_point(3040,410)) #ファイルに合わせて変更する\n",
    "except:\n",
    "    print('no data')"
   ]
  }
 ],
 "metadata": {
  "kernelspec": {
   "display_name": "Python 3",
   "language": "python",
   "name": "python3"
  },
  "language_info": {
   "codemirror_mode": {
    "name": "ipython",
    "version": 3
   },
   "file_extension": ".py",
   "mimetype": "text/x-python",
   "name": "python",
   "nbconvert_exporter": "python",
   "pygments_lexer": "ipython3",
   "version": "3.8.5"
  }
 },
 "nbformat": 4,
 "nbformat_minor": 4
}